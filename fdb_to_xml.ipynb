{
 "cells": [
  {
   "cell_type": "code",
   "execution_count": 1,
   "metadata": {},
   "outputs": [],
   "source": [
    "import pandas as pd\n",
    "import datetime\n",
    "import tqdm"
   ]
  },
  {
   "cell_type": "code",
   "execution_count": 2,
   "metadata": {},
   "outputs": [],
   "source": [
    "df = pd.read_csv('/Users/sava/Desktop/M1/XML_TEI/XML_devoir/fdb_scraped_pulito.csv')"
   ]
  },
  {
   "cell_type": "code",
   "execution_count": 6,
   "metadata": {},
   "outputs": [],
   "source": [
    "df = df.drop_duplicates(subset=['Titolo','Autore','Testo'])"
   ]
  },
  {
   "cell_type": "code",
   "execution_count": 8,
   "metadata": {},
   "outputs": [],
   "source": [
    "def thread_to_xml(thread, titolo):\n",
    "    \"\"\"\n",
    "    thread: pandas Dataframe\n",
    "\n",
    "    returns an xml string\n",
    "    \"\"\"\n",
    "\n",
    "    thread = thread.reset_index(drop=True)\n",
    "\n",
    "    thread_post_list = ''\n",
    "\n",
    "    for i in range(len(thread)):\n",
    "        row = thread.iloc[i]\n",
    "        date = datetime.datetime.strptime(row['Data'].split('T')[0], '%Y-%m-%d')\n",
    "        year = date.year\n",
    "        month = date.month\n",
    "        day = date.day\n",
    "\n",
    "        date_str = f\"\"\"<date year=\"{year}\" month=\"{month}\" day=\"{day}\">{row['Data'].split('T')[0]}</date>\"\"\"\n",
    "        time = f\"<time>{row['Data'].split('T')[1][:-5]}</time>\"\n",
    "        autor_name = row['Autore'].replace(' ','_')\n",
    "        autore = f\"\"\"<author who=\"#{autor_name}\">{row['Autore']}</author>\"\"\"\n",
    "        if type(row['Testo'])==str:\n",
    "            text = f\"<text>{row['Testo'].replace('<', '&lt;').replace('>','&gt;')}</text>\"\n",
    "        else:\n",
    "            text = f\"<text>{row['Testo']}</text>\"\n",
    "\n",
    "        post = f'''<post id=\"{i}\">\n",
    "        {date_str}\n",
    "        {time}\n",
    "        {autore}\n",
    "        {text}\n",
    "        </post>'''\n",
    "\n",
    "        thread_post_list += post+'\\n'\n",
    "\n",
    "        titolo = titolo.replace('\"','\\'')\n",
    "        thread_str = f'''<thread title=\"{titolo}\">\n",
    "        {thread_post_list}</thread>'''\n",
    "    \n",
    "    return thread_str\n",
    "    \n"
   ]
  },
  {
   "cell_type": "code",
   "execution_count": 9,
   "metadata": {},
   "outputs": [
    {
     "name": "stderr",
     "output_type": "stream",
     "text": [
      "100%|██████████| 2377/2377 [02:27<00:00, 16.08it/s]\n"
     ]
    }
   ],
   "source": [
    "xml_string = ''\n",
    "for titolo in tqdm.tqdm(df['Titolo'].unique()):\n",
    "    thread_xml = thread_to_xml(df[df['Titolo']==titolo], titolo)\n",
    "    xml_string += f'{thread_xml}\\n'"
   ]
  },
  {
   "cell_type": "code",
   "execution_count": 10,
   "metadata": {},
   "outputs": [],
   "source": [
    "final = f\"\"\"<?xml version=\"1.0\" encoding=\"UTF-8\"?>\n",
    "<forum>\n",
    "{xml_string}</forum>\"\"\""
   ]
  },
  {
   "cell_type": "code",
   "execution_count": 11,
   "metadata": {},
   "outputs": [],
   "source": [
    "final = final.replace('&','&amp;')"
   ]
  },
  {
   "cell_type": "code",
   "execution_count": 12,
   "metadata": {},
   "outputs": [],
   "source": [
    "with open('fdb_xml.xml','w') as file:\n",
    "    file.write(final)"
   ]
  },
  {
   "cell_type": "code",
   "execution_count": null,
   "metadata": {},
   "outputs": [],
   "source": []
  }
 ],
 "metadata": {
  "kernelspec": {
   "display_name": "pythonforjournalists",
   "language": "python",
   "name": "python3"
  },
  "language_info": {
   "codemirror_mode": {
    "name": "ipython",
    "version": 3
   },
   "file_extension": ".py",
   "mimetype": "text/x-python",
   "name": "python",
   "nbconvert_exporter": "python",
   "pygments_lexer": "ipython3",
   "version": "3.11.5"
  }
 },
 "nbformat": 4,
 "nbformat_minor": 2
}
